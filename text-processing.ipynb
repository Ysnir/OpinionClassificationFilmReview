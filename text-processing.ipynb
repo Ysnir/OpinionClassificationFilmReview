{
 "cells": [
  {
   "cell_type": "markdown",
   "metadata": {},
   "source": [
    "# Preprocessing on a text corpus using NLTK"
   ]
  },
  {
   "cell_type": "code",
   "execution_count": 1,
   "metadata": {},
   "outputs": [],
   "source": [
    "import nltk\n",
    "#nltk.download()"
   ]
  },
  {
   "cell_type": "markdown",
   "metadata": {},
   "source": [
    "### Importing and tokenizing the corpus"
   ]
  },
  {
   "cell_type": "code",
   "execution_count": 2,
   "metadata": {
    "scrolled": false
   },
   "outputs": [],
   "source": [
    "import csv\n",
    "\n",
    "#Load corpus from a csv file into a python list\n",
    "corpus_path = 'data/dataset.csv'\n",
    "corpus = []\n",
    "with open(corpus_path) as csvfile:\n",
    "    spamreader = csv.reader(csvfile, delimiter='\\n', quotechar='|')\n",
    "    for row in spamreader:\n",
    "        corpus.append(row)\n",
    "\n"
   ]
  },
  {
   "cell_type": "code",
   "execution_count": 3,
   "metadata": {
    "scrolled": false
   },
   "outputs": [],
   "source": [
    "from nltk.tokenize import RegexpTokenizer\n",
    "\n",
    "tokenizer = RegexpTokenizer(r'\\w+')\n",
    "\n",
    "tokenized_corpus = []\n",
    "\n",
    "#tokenization of the words removing non-alphanumeric character\n",
    "for row in corpus:\n",
    "    words = tokenizer.tokenize(str(row))\n",
    "    tokenized_corpus.append(words)\n",
    "    \n"
   ]
  },
  {
   "cell_type": "code",
   "execution_count": 4,
   "metadata": {
    "scrolled": false
   },
   "outputs": [],
   "source": [
    "#Run this instead for lowercase character only\n",
    "from nltk.tokenize import RegexpTokenizer\n",
    "\n",
    "tokenizer = RegexpTokenizer(r'\\w+')\n",
    "\n",
    "tokenized_corpus = []\n",
    "\n",
    "#tokenization of the words removing non-alphanumeric character\n",
    "for row in corpus:\n",
    "    words = tokenizer.tokenize(str(row).lower())\n",
    "    tokenized_corpus.append(words)\n",
    "    \n"
   ]
  },
  {
   "cell_type": "code",
   "execution_count": 5,
   "metadata": {},
   "outputs": [
    {
     "data": {
      "text/plain": [
       "48"
      ]
     },
     "execution_count": 5,
     "metadata": {},
     "output_type": "execute_result"
    }
   ],
   "source": [
    "len(tokenized_corpus[3])"
   ]
  },
  {
   "cell_type": "markdown",
   "metadata": {},
   "source": [
    "### Brut text with stop-word filtering"
   ]
  },
  {
   "cell_type": "code",
   "execution_count": 6,
   "metadata": {
    "scrolled": true
   },
   "outputs": [
    {
     "name": "stdout",
     "output_type": "stream",
     "text": [
      "[nltk_data] Downloading package stopwords to\n",
      "[nltk_data]     C:\\Users\\ordinateur\\AppData\\Roaming\\nltk_data...\n",
      "[nltk_data]   Package stopwords is already up-to-date!\n"
     ]
    }
   ],
   "source": [
    "import nltk\n",
    "nltk.download('stopwords')\n",
    "from nltk.corpus import stopwords\n",
    "stopwords_corpus = []\n",
    "\n",
    "stop_words = set(stopwords.words(\"english\"))\n",
    "\n",
    "#Creating a corpus without the stop words (from nltk list)\n",
    "for doc in tokenized_corpus:\n",
    "    words = []\n",
    "    for word in doc:\n",
    "        if word not in stop_words:\n",
    "            words.append(word)\n",
    "    stopwords_corpus.append(words)\n"
   ]
  },
  {
   "cell_type": "code",
   "execution_count": 7,
   "metadata": {},
   "outputs": [
    {
     "data": {
      "text/plain": [
       "24"
      ]
     },
     "execution_count": 7,
     "metadata": {},
     "output_type": "execute_result"
    }
   ],
   "source": [
    "len(stopwords_corpus[3])"
   ]
  },
  {
   "cell_type": "markdown",
   "metadata": {},
   "source": [
    "### Lemmatized text"
   ]
  },
  {
   "cell_type": "code",
   "execution_count": 8,
   "metadata": {},
   "outputs": [
    {
     "name": "stdout",
     "output_type": "stream",
     "text": [
      "[nltk_data] Downloading package wordnet to\n",
      "[nltk_data]     C:\\Users\\ordinateur\\AppData\\Roaming\\nltk_data...\n",
      "[nltk_data]   Package wordnet is already up-to-date!\n"
     ]
    }
   ],
   "source": [
    "nltk.download('wordnet')\n",
    "from nltk.stem import WordNetLemmatizer\n",
    "lemmatized_corpus = []\n",
    "lemmatizer = WordNetLemmatizer()\n",
    "\n",
    "for doc in stopwords_corpus:\n",
    "    lemmas = []\n",
    "    for word in doc:\n",
    "        lemmas.append(lemmatizer.lemmatize(word))\n",
    "    lemmatized_corpus.append(lemmas)\n",
    " "
   ]
  },
  {
   "cell_type": "code",
   "execution_count": 9,
   "metadata": {},
   "outputs": [
    {
     "data": {
      "text/plain": [
       "24"
      ]
     },
     "execution_count": 9,
     "metadata": {},
     "output_type": "execute_result"
    }
   ],
   "source": [
    "len(lemmatized_corpus[3])"
   ]
  },
  {
   "cell_type": "markdown",
   "metadata": {},
   "source": [
    "### Lemmatizes text with POS tagging analysis"
   ]
  },
  {
   "cell_type": "code",
   "execution_count": 10,
   "metadata": {},
   "outputs": [],
   "source": [
    "def get_pos(tag):\n",
    "    if tag.startswith('J'):   ## adjective\n",
    "        return 'a'\n",
    "    elif tag.startswith('V'):  ## verb\n",
    "        return 'v'\n",
    "    elif tag.startswith('N'):  ## noun\n",
    "        return 'n'\n",
    "    elif tag.startswith('R'):  ## adverb\n",
    "        return 'r'\n",
    "    else:  ## any other tags\n",
    "        return ''"
   ]
  },
  {
   "cell_type": "code",
   "execution_count": 11,
   "metadata": {},
   "outputs": [
    {
     "name": "stdout",
     "output_type": "stream",
     "text": [
      "[nltk_data] Downloading package averaged_perceptron_tagger to\n",
      "[nltk_data]     C:\\Users\\ordinateur\\AppData\\Roaming\\nltk_data...\n",
      "[nltk_data]   Unzipping taggers\\averaged_perceptron_tagger.zip.\n"
     ]
    }
   ],
   "source": [
    "nltk.download('averaged_perceptron_tagger')\n",
    "#POS-tagging\n",
    "postagged_corpus = []\n",
    "\n",
    "for doc in stopwords_corpus:\n",
    "    words = nltk.pos_tag(doc)\n",
    "    postagged_corpus.append(words)"
   ]
  },
  {
   "cell_type": "code",
   "execution_count": 12,
   "metadata": {
    "scrolled": true
   },
   "outputs": [
    {
     "data": {
      "text/plain": [
       "[('bad', 'JJ'),\n",
       " ('movie', 'NN'),\n",
       " ('saw', 'VBD'),\n",
       " ('tiff', 'JJ'),\n",
       " ('movie', 'NN'),\n",
       " ('gives', 'VBZ'),\n",
       " ('sense', 'NN'),\n",
       " ('done', 'VBN'),\n",
       " ('reminds', 'VBZ'),\n",
       " ('alot', 'JJ'),\n",
       " ('movie', 'NN'),\n",
       " ('blow', 'NN'),\n",
       " ('expect', 'VBP'),\n",
       " ('blow', 'NN'),\n",
       " ('actually', 'RB'),\n",
       " ('interesting', 'VBG'),\n",
       " ('one', 'CD'),\n",
       " ('story', 'NN'),\n",
       " ('told', 'VBD'),\n",
       " ('two', 'CD'),\n",
       " ('ways', 'NNS'),\n",
       " ('times', 'NNS'),\n",
       " ('told', 'RB'),\n",
       " ('well', 'RB')]"
      ]
     },
     "execution_count": 12,
     "metadata": {},
     "output_type": "execute_result"
    }
   ],
   "source": [
    "postagged_corpus[3]"
   ]
  },
  {
   "cell_type": "code",
   "execution_count": 13,
   "metadata": {},
   "outputs": [],
   "source": [
    "lemmatized_pos_corpus = []\n",
    "\n",
    "for doc in postagged_corpus:\n",
    "    lemmas = []\n",
    "    for word in doc:\n",
    "        if get_pos(word[1]) == '':\n",
    "            ## for any tags other than adj, verb, noun, adverb use default lemmatization\n",
    "            lemma = lemmatizer.lemmatize(word[0])\n",
    "\n",
    "        elif get_pos(word[1]) == 'r' and word[0].endswith('ly'):\n",
    "            ## default lemmatizer not working for adverb so manaully code to remove end 'ly' of adverb\n",
    "            lemma = word[0].replace('ly','')\n",
    "\n",
    "        else:\n",
    "            ## for adj, verb and noun\n",
    "            ## explicitly pass POS tagger so that lemmatization is correct and efficient\n",
    "            lemma = lemmatizer.lemmatize(word[0], pos=get_pos(word[1]))\n",
    "        lemmas.append(lemma)\n",
    "    lemmatized_pos_corpus.append(lemmas)"
   ]
  },
  {
   "cell_type": "code",
   "execution_count": 14,
   "metadata": {
    "scrolled": false
   },
   "outputs": [
    {
     "data": {
      "text/plain": [
       "['bad',\n",
       " 'movie',\n",
       " 'saw',\n",
       " 'tiff',\n",
       " 'movie',\n",
       " 'give',\n",
       " 'sense',\n",
       " 'do',\n",
       " 'remind',\n",
       " 'alot',\n",
       " 'movie',\n",
       " 'blow',\n",
       " 'expect',\n",
       " 'blow',\n",
       " 'actual',\n",
       " 'interest',\n",
       " 'one',\n",
       " 'story',\n",
       " 'tell',\n",
       " 'two',\n",
       " 'way',\n",
       " 'time',\n",
       " 'told',\n",
       " 'well']"
      ]
     },
     "execution_count": 14,
     "metadata": {},
     "output_type": "execute_result"
    }
   ],
   "source": [
    "lemmatized_pos_corpus[3]"
   ]
  },
  {
   "cell_type": "markdown",
   "metadata": {},
   "source": [
    "### Lemmatized text with POS tag filtering"
   ]
  },
  {
   "cell_type": "code",
   "execution_count": 15,
   "metadata": {},
   "outputs": [],
   "source": [
    "def filter_pos(tag):\n",
    "    if tag.startswith('NNP') or tag.startswith('CD'):  ## proper noun or cardinal number\n",
    "        return False\n",
    "    else:\n",
    "        return True"
   ]
  },
  {
   "cell_type": "code",
   "execution_count": 16,
   "metadata": {},
   "outputs": [],
   "source": [
    "filter_corpus = []\n",
    "\n",
    "for doc in postagged_corpus:\n",
    "    lemmas = []\n",
    "    for word in doc:\n",
    "        if get_pos(word[1]) == '':\n",
    "            ## for any tags other than adj, verb, noun, adverb use default lemmatization\n",
    "            lemma = lemmatizer.lemmatize(word[0])\n",
    "\n",
    "        elif get_pos(word[1]) == 'r' and word[0].endswith('ly'):\n",
    "            ## default lemmatizer not working for adverb so manaully code to remove end 'ly' of adverb\n",
    "            lemma = word[0].replace('ly','')\n",
    "\n",
    "        else:\n",
    "            ## for adj, verb and noun\n",
    "            ## explicitly pass POS tagger so that lemmatization is correct and efficient\n",
    "            lemma = lemmatizer.lemmatize(word[0], pos=get_pos(word[1]))\n",
    "        if filter_pos(word[1]):\n",
    "            lemmas.append(lemma)\n",
    "    filter_corpus.append(lemmas)"
   ]
  },
  {
   "cell_type": "markdown",
   "metadata": {},
   "source": [
    "### Exporting different corpora in csv files"
   ]
  },
  {
   "cell_type": "code",
   "execution_count": 17,
   "metadata": {
    "scrolled": true
   },
   "outputs": [],
   "source": [
    "#Reconstructing the stopword corpus before exporting it\n",
    "documents = []\n",
    "for doc in stopwords_corpus:\n",
    "    word = \" \".join(doc)\n",
    "    documents.append(word)"
   ]
  },
  {
   "cell_type": "code",
   "execution_count": 18,
   "metadata": {
    "scrolled": true
   },
   "outputs": [],
   "source": [
    "#Exporting the brut-text with stopwords filtering into a csv file\n",
    "with open('data/stopwords.csv', \"w\") as csv_file:\n",
    "        writer = csv.writer(csv_file, delimiter='\\n', quoting=csv.QUOTE_NONE, quotechar='')\n",
    "        for doc in documents:\n",
    "            writer.writerow([doc])"
   ]
  },
  {
   "cell_type": "code",
   "execution_count": 19,
   "metadata": {
    "scrolled": true
   },
   "outputs": [],
   "source": [
    "#Exporting simple lemmatized corpus\n",
    "documents = []\n",
    "for doc in lemmatized_corpus:\n",
    "    word = \" \".join(doc)\n",
    "    documents.append(word)\n",
    "    \n",
    "with open('data/lemmatized.csv', \"w\") as csv_file:\n",
    "    writer = csv.writer(csv_file, delimiter='\\n', quoting=csv.QUOTE_NONE, quotechar='')\n",
    "    for doc in documents:\n",
    "        writer.writerow([doc])  "
   ]
  },
  {
   "cell_type": "code",
   "execution_count": 20,
   "metadata": {},
   "outputs": [],
   "source": [
    "#Exporting postagged and lemmatized corpus\n",
    "documents = []\n",
    "for doc in lemmatized_pos_corpus:\n",
    "    word = \" \".join(doc)\n",
    "    documents.append(word)\n",
    "    \n",
    "with open('data/postagged.csv', \"w\") as csv_file:\n",
    "    writer = csv.writer(csv_file, delimiter='\\n', quoting=csv.QUOTE_NONE, quotechar='')\n",
    "    for doc in documents:\n",
    "        writer.writerow([doc])  "
   ]
  },
  {
   "cell_type": "code",
   "execution_count": 21,
   "metadata": {},
   "outputs": [],
   "source": [
    "#Exporting postagged, lemmatized and filtered corpus\n",
    "documents = []\n",
    "for doc in filter_corpus:\n",
    "    word = \" \".join(doc)\n",
    "    documents.append(word)\n",
    "    \n",
    "with open('data/filtered.csv', \"w\") as csv_file:\n",
    "    writer = csv.writer(csv_file, delimiter='\\n', quoting=csv.QUOTE_NONE, quotechar='')\n",
    "    for doc in documents:\n",
    "        writer.writerow([doc])  "
   ]
  }
 ],
 "metadata": {
  "kernelspec": {
   "display_name": "Python 3",
   "language": "python",
   "name": "python3"
  },
  "language_info": {
   "codemirror_mode": {
    "name": "ipython",
    "version": 3
   },
   "file_extension": ".py",
   "mimetype": "text/x-python",
   "name": "python",
   "nbconvert_exporter": "python",
   "pygments_lexer": "ipython3",
   "version": "3.6.4"
  }
 },
 "nbformat": 4,
 "nbformat_minor": 2
}
