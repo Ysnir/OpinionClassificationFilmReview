{
 "cells": [
  {
   "cell_type": "markdown",
   "metadata": {},
   "source": [
    "# Sentiment Analysis in a movie review corpus\n",
    "## 1- First model comparison with raw text\n",
    "### a) Importing dataset"
   ]
  },
  {
   "cell_type": "code",
   "execution_count": 6,
   "metadata": {},
   "outputs": [],
   "source": [
    "import pandas as p\n",
    "\n",
    "#Importing dataset into a Dataframe\n",
    "corpus_path = 'data/dataset.csv'\n",
    "label_path = 'data/labels.csv'\n",
    "label = p.read_table(label_path, header=None, names=['label'])\n",
    "text = p.read_table(corpus_path, header=None, names=['review'])\n",
    "\n",
    "##to align label and text\n",
    "label.reset_index(drop=True, inplace=True)\n",
    "text.reset_index(drop=True, inplace=True)\n",
    "\n",
    "#concatenate label and text together aligned\n",
    "\n",
    "review = p.concat([text.reset_index(drop=True), label.reset_index(drop=True)], axis=1)"
   ]
  },
  {
   "cell_type": "code",
   "execution_count": 7,
   "metadata": {
    "scrolled": true
   },
   "outputs": [
    {
     "data": {
      "text/plain": [
       "pandas.core.frame.DataFrame"
      ]
     },
     "execution_count": 7,
     "metadata": {},
     "output_type": "execute_result"
    }
   ],
   "source": [
    "type(label)"
   ]
  },
  {
   "cell_type": "code",
   "execution_count": 8,
   "metadata": {
    "scrolled": true
   },
   "outputs": [
    {
     "data": {
      "text/plain": [
       "(10000, 2)"
      ]
     },
     "execution_count": 8,
     "metadata": {},
     "output_type": "execute_result"
    }
   ],
   "source": [
    "review.shape"
   ]
  },
  {
   "cell_type": "code",
   "execution_count": 9,
   "metadata": {
    "scrolled": true
   },
   "outputs": [
    {
     "data": {
      "text/html": [
       "<div>\n",
       "<style scoped>\n",
       "    .dataframe tbody tr th:only-of-type {\n",
       "        vertical-align: middle;\n",
       "    }\n",
       "\n",
       "    .dataframe tbody tr th {\n",
       "        vertical-align: top;\n",
       "    }\n",
       "\n",
       "    .dataframe thead th {\n",
       "        text-align: right;\n",
       "    }\n",
       "</style>\n",
       "<table border=\"1\" class=\"dataframe\">\n",
       "  <thead>\n",
       "    <tr style=\"text-align: right;\">\n",
       "      <th></th>\n",
       "      <th>review</th>\n",
       "      <th>label</th>\n",
       "    </tr>\n",
       "  </thead>\n",
       "  <tbody>\n",
       "    <tr>\n",
       "      <th>0</th>\n",
       "      <td>I ended up watching this whole (very long) mov...</td>\n",
       "      <td>-1</td>\n",
       "    </tr>\n",
       "    <tr>\n",
       "      <th>1</th>\n",
       "      <td>Where do I start? Per the title of this film I...</td>\n",
       "      <td>-1</td>\n",
       "    </tr>\n",
       "    <tr>\n",
       "      <th>2</th>\n",
       "      <td>This is absolutely the dumbest movie I've ever...</td>\n",
       "      <td>-1</td>\n",
       "    </tr>\n",
       "    <tr>\n",
       "      <th>3</th>\n",
       "      <td>Bad Movie - saw it at the TIFF and the movie g...</td>\n",
       "      <td>-1</td>\n",
       "    </tr>\n",
       "    <tr>\n",
       "      <th>4</th>\n",
       "      <td>What I found so curious about this film--I saw...</td>\n",
       "      <td>-1</td>\n",
       "    </tr>\n",
       "    <tr>\n",
       "      <th>5</th>\n",
       "      <td>The Cat in the Hat is just a slap in the face ...</td>\n",
       "      <td>-1</td>\n",
       "    </tr>\n",
       "    <tr>\n",
       "      <th>6</th>\n",
       "      <td>This is going to be the most useless comment I...</td>\n",
       "      <td>-1</td>\n",
       "    </tr>\n",
       "    <tr>\n",
       "      <th>7</th>\n",
       "      <td>I loved Adrianne Curry before this show. I tho...</td>\n",
       "      <td>-1</td>\n",
       "    </tr>\n",
       "    <tr>\n",
       "      <th>8</th>\n",
       "      <td>I don't really post comments, but wanted to ma...</td>\n",
       "      <td>-1</td>\n",
       "    </tr>\n",
       "    <tr>\n",
       "      <th>9</th>\n",
       "      <td>Would have better strengthened considerably by...</td>\n",
       "      <td>-1</td>\n",
       "    </tr>\n",
       "  </tbody>\n",
       "</table>\n",
       "</div>"
      ],
      "text/plain": [
       "                                              review  label\n",
       "0  I ended up watching this whole (very long) mov...     -1\n",
       "1  Where do I start? Per the title of this film I...     -1\n",
       "2  This is absolutely the dumbest movie I've ever...     -1\n",
       "3  Bad Movie - saw it at the TIFF and the movie g...     -1\n",
       "4  What I found so curious about this film--I saw...     -1\n",
       "5  The Cat in the Hat is just a slap in the face ...     -1\n",
       "6  This is going to be the most useless comment I...     -1\n",
       "7  I loved Adrianne Curry before this show. I tho...     -1\n",
       "8  I don't really post comments, but wanted to ma...     -1\n",
       "9  Would have better strengthened considerably by...     -1"
      ]
     },
     "execution_count": 9,
     "metadata": {},
     "output_type": "execute_result"
    }
   ],
   "source": [
    "review.head(10)"
   ]
  },
  {
   "cell_type": "code",
   "execution_count": 10,
   "metadata": {},
   "outputs": [
    {
     "data": {
      "text/html": [
       "<div>\n",
       "<style scoped>\n",
       "    .dataframe tbody tr th:only-of-type {\n",
       "        vertical-align: middle;\n",
       "    }\n",
       "\n",
       "    .dataframe tbody tr th {\n",
       "        vertical-align: top;\n",
       "    }\n",
       "\n",
       "    .dataframe thead th {\n",
       "        text-align: right;\n",
       "    }\n",
       "</style>\n",
       "<table border=\"1\" class=\"dataframe\">\n",
       "  <thead>\n",
       "    <tr style=\"text-align: right;\">\n",
       "      <th></th>\n",
       "      <th>review</th>\n",
       "      <th>label</th>\n",
       "    </tr>\n",
       "  </thead>\n",
       "  <tbody>\n",
       "    <tr>\n",
       "      <th>9990</th>\n",
       "      <td>What can be said, really... \"The Tenant\" is a ...</td>\n",
       "      <td>1</td>\n",
       "    </tr>\n",
       "    <tr>\n",
       "      <th>9991</th>\n",
       "      <td>Wow this was a movie was completely captivatin...</td>\n",
       "      <td>1</td>\n",
       "    </tr>\n",
       "    <tr>\n",
       "      <th>9992</th>\n",
       "      <td>A quite good film version of the novel, though...</td>\n",
       "      <td>1</td>\n",
       "    </tr>\n",
       "    <tr>\n",
       "      <th>9993</th>\n",
       "      <td>I saw this movie with my friend and we couldnt...</td>\n",
       "      <td>1</td>\n",
       "    </tr>\n",
       "    <tr>\n",
       "      <th>9994</th>\n",
       "      <td>While the story is sweet, and the dancing and ...</td>\n",
       "      <td>1</td>\n",
       "    </tr>\n",
       "    <tr>\n",
       "      <th>9995</th>\n",
       "      <td>An utterly beautiful film, one of a handful of...</td>\n",
       "      <td>1</td>\n",
       "    </tr>\n",
       "    <tr>\n",
       "      <th>9996</th>\n",
       "      <td>Being that this movie has a lot of fine entert...</td>\n",
       "      <td>1</td>\n",
       "    </tr>\n",
       "    <tr>\n",
       "      <th>9997</th>\n",
       "      <td>This was my favourite film as a child, and I h...</td>\n",
       "      <td>1</td>\n",
       "    </tr>\n",
       "    <tr>\n",
       "      <th>9998</th>\n",
       "      <td>Paris, je t'aime (2006) is a film made up of 1...</td>\n",
       "      <td>1</td>\n",
       "    </tr>\n",
       "    <tr>\n",
       "      <th>9999</th>\n",
       "      <td>John Water's (\"Pink Flamingos\"...) \"Pecker\" is...</td>\n",
       "      <td>1</td>\n",
       "    </tr>\n",
       "  </tbody>\n",
       "</table>\n",
       "</div>"
      ],
      "text/plain": [
       "                                                 review  label\n",
       "9990  What can be said, really... \"The Tenant\" is a ...      1\n",
       "9991  Wow this was a movie was completely captivatin...      1\n",
       "9992  A quite good film version of the novel, though...      1\n",
       "9993  I saw this movie with my friend and we couldnt...      1\n",
       "9994  While the story is sweet, and the dancing and ...      1\n",
       "9995  An utterly beautiful film, one of a handful of...      1\n",
       "9996  Being that this movie has a lot of fine entert...      1\n",
       "9997  This was my favourite film as a child, and I h...      1\n",
       "9998  Paris, je t'aime (2006) is a film made up of 1...      1\n",
       "9999  John Water's (\"Pink Flamingos\"...) \"Pecker\" is...      1"
      ]
     },
     "execution_count": 10,
     "metadata": {},
     "output_type": "execute_result"
    }
   ],
   "source": [
    "review.tail(10)"
   ]
  },
  {
   "cell_type": "code",
   "execution_count": 11,
   "metadata": {},
   "outputs": [
    {
     "data": {
      "text/plain": [
       "-1    5000\n",
       " 1    5000\n",
       "Name: label, dtype: int64"
      ]
     },
     "execution_count": 11,
     "metadata": {},
     "output_type": "execute_result"
    }
   ],
   "source": [
    "review.label.value_counts()"
   ]
  },
  {
   "cell_type": "code",
   "execution_count": 12,
   "metadata": {},
   "outputs": [],
   "source": [
    "FEATURES = review.review\n",
    "CLASS = review.label "
   ]
  },
  {
   "cell_type": "code",
   "execution_count": 13,
   "metadata": {
    "scrolled": true
   },
   "outputs": [
    {
     "name": "stdout",
     "output_type": "stream",
     "text": [
      "(7500,)\n",
      "(2500,)\n",
      "(7500,)\n",
      "(2500,)\n"
     ]
    }
   ],
   "source": [
    "#creating testing and training set\n",
    "from sklearn.model_selection import train_test_split\n",
    "train_feature, test_feature, train_class, test_class = train_test_split(FEATURES, CLASS, random_state=1)\n",
    "print(train_feature.shape)\n",
    "print(test_feature.shape)\n",
    "print(train_class.shape)\n",
    "print(test_class.shape)\n"
   ]
  },
  {
   "cell_type": "code",
   "execution_count": 14,
   "metadata": {},
   "outputs": [],
   "source": [
    "#Vectorizing the text data\n",
    "from sklearn.feature_extraction.text import TfidfVectorizer\n",
    "vect = TfidfVectorizer()\n",
    "#create a matrix with terms in each documents\n",
    "train_feature_m = vect.fit_transform(train_feature)\n",
    "test_feature_m = vect.transform(test_feature)"
   ]
  },
  {
   "cell_type": "markdown",
   "metadata": {},
   "source": [
    "### b) Building Naive Bayes model"
   ]
  },
  {
   "cell_type": "code",
   "execution_count": 15,
   "metadata": {},
   "outputs": [
    {
     "name": "stdout",
     "output_type": "stream",
     "text": [
      "Wall time: 9.53 ms\n"
     ]
    },
    {
     "data": {
      "text/plain": [
       "MultinomialNB(alpha=1.0, class_prior=None, fit_prior=True)"
      ]
     },
     "execution_count": 15,
     "metadata": {},
     "output_type": "execute_result"
    }
   ],
   "source": [
    "from sklearn.naive_bayes import MultinomialNB\n",
    "nb = MultinomialNB()\n",
    "\n",
    "#Mesure time for model training\n",
    "%time nb.fit(train_feature_m, train_class)\n"
   ]
  },
  {
   "cell_type": "code",
   "execution_count": 16,
   "metadata": {},
   "outputs": [],
   "source": [
    "from sklearn import metrics\n",
    "\n",
    "#Prediction of the class for the test set\n",
    "pred_class = nb.predict(test_feature_m)"
   ]
  },
  {
   "cell_type": "code",
   "execution_count": 17,
   "metadata": {},
   "outputs": [
    {
     "data": {
      "text/plain": [
       "0.8964"
      ]
     },
     "execution_count": 17,
     "metadata": {},
     "output_type": "execute_result"
    }
   ],
   "source": [
    "metrics.accuracy_score(test_class, pred_class)"
   ]
  },
  {
   "cell_type": "code",
   "execution_count": 18,
   "metadata": {},
   "outputs": [
    {
     "data": {
      "text/plain": [
       "array([[1177,   94],\n",
       "       [ 165, 1064]], dtype=int64)"
      ]
     },
     "execution_count": 18,
     "metadata": {},
     "output_type": "execute_result"
    }
   ],
   "source": [
    "metrics.confusion_matrix(test_class, pred_class)"
   ]
  },
  {
   "cell_type": "code",
   "execution_count": 19,
   "metadata": {},
   "outputs": [],
   "source": [
    "false_negative = test_feature[(pred_class < test_class)]\n",
    "false_positive = test_feature[(pred_class > test_class)]"
   ]
  },
  {
   "cell_type": "code",
   "execution_count": 20,
   "metadata": {},
   "outputs": [
    {
     "data": {
      "text/plain": [
       "6111    This was a great movie with a good cast, all o...\n",
       "7781    There is a certain genius behind this movie. I...\n",
       "7775    If you are a fan, then you will probably enjoy...\n",
       "8074    Besides the fact that my list of favorite movi...\n",
       "5131    Dream Quest was a surprisingly good movie. The...\n",
       "9112    I thought this movie would be dumb, but I real...\n",
       "7782    I remember seeing this movie when I was about ...\n",
       "7214    For a \"no budget\" movie this thing rocks. I do...\n",
       "5482    I was up late flipping cable channels one nigh...\n",
       "9629    Will all of you please lay the hell off Todd S...\n",
       "Name: review, dtype: object"
      ]
     },
     "execution_count": 20,
     "metadata": {},
     "output_type": "execute_result"
    }
   ],
   "source": [
    "false_negative.head(10)"
   ]
  },
  {
   "cell_type": "code",
   "execution_count": 21,
   "metadata": {
    "scrolled": true
   },
   "outputs": [
    {
     "data": {
      "text/plain": [
       "'There is a certain genius behind this movie. I was laughing throughout. The scene in the phone sex office, discussing how love heals the doppelganger was a nice attempt at this genius/humor. Execution is poor, but you can see the writer\\'s message and they do have some talent. The doppelganger split at the end was like... \"ok, wasn\\'t quite expecting that but let\\'s see what the movie has to say\". Certainly ridiculous, but a sweet idea and actually very coherent to the story in a strange way.Is the point of a movie to be logical or is it to be entertaining or communicate on an emotional level? i\\'m easily bored by many movies, but this one kept my interest throughout.I think the story may have some auto-biographical roots, but that\\'s just a guess. Horribly bad, but good. I\\'m looking for other movies this person may have done (with more experience).'"
      ]
     },
     "execution_count": 21,
     "metadata": {},
     "output_type": "execute_result"
    }
   ],
   "source": [
    "test_feature[7781]"
   ]
  },
  {
   "cell_type": "code",
   "execution_count": 22,
   "metadata": {},
   "outputs": [
    {
     "data": {
      "text/plain": [
       "'This was a great movie with a good cast, all of them hitting on all cylinders. And when Dianne Keaton is at her best, well, it just doesn\\'t get any better than that. But Tom Everett Scott, always underrated, was even better. He should be a star.My only complaint is with one aspect of the screenplay. None of the characters ever acknowledged that the dead daughter wasn\\'t always a good person. And neither was her mother, played by Keaton. At one point she breaks a promise she made to one character not to reveal that he had been sleeping around.One of the other commentators said the movie had a \"political agenda\". That is a baffling thing to say. There was no politics at all in this movie.'"
      ]
     },
     "execution_count": 22,
     "metadata": {},
     "output_type": "execute_result"
    }
   ],
   "source": [
    "test_feature[6111]"
   ]
  },
  {
   "cell_type": "markdown",
   "metadata": {},
   "source": [
    "### c) Building K-Nearest Neighbors model"
   ]
  },
  {
   "cell_type": "code",
   "execution_count": 23,
   "metadata": {},
   "outputs": [
    {
     "name": "stdout",
     "output_type": "stream",
     "text": [
      "Wall time: 7.52 ms\n"
     ]
    },
    {
     "data": {
      "text/plain": [
       "KNeighborsClassifier(algorithm='auto', leaf_size=30, metric='minkowski',\n",
       "           metric_params=None, n_jobs=1, n_neighbors=5, p=2,\n",
       "           weights='uniform')"
      ]
     },
     "execution_count": 23,
     "metadata": {},
     "output_type": "execute_result"
    }
   ],
   "source": [
    "from sklearn.neighbors import KNeighborsClassifier\n",
    "\n",
    "#K-nearest neighbors with default parameters take k = 5\n",
    "knn = KNeighborsClassifier()\n",
    "\n",
    "%time knn.fit(train_feature_m, train_class)"
   ]
  },
  {
   "cell_type": "code",
   "execution_count": 24,
   "metadata": {},
   "outputs": [],
   "source": [
    "pred_class = knn.predict(test_feature_m)"
   ]
  },
  {
   "cell_type": "code",
   "execution_count": 25,
   "metadata": {
    "scrolled": true
   },
   "outputs": [
    {
     "data": {
      "text/plain": [
       "0.7912"
      ]
     },
     "execution_count": 25,
     "metadata": {},
     "output_type": "execute_result"
    }
   ],
   "source": [
    "metrics.accuracy_score(test_class, pred_class)"
   ]
  },
  {
   "cell_type": "code",
   "execution_count": 26,
   "metadata": {},
   "outputs": [],
   "source": [
    "#Poor accuracy score for KNN with k=5 so we are trying to test with different values for k (commented long execution time)\n",
    "from sklearn.neighbors import KNeighborsClassifier\n",
    "\n",
    "knn_accuracy = {}\n",
    "\n",
    "for k in range(1, 50) :\n",
    "    knn = KNeighborsClassifier(n_neighbors=k)\n",
    "    knn.fit(train_feature_m, train_class)\n",
    "    pred_class = knn.predict(test_feature_m)\n",
    "    knn_accuracy[k] = metrics.accuracy_score(test_class, pred_class)\n",
    "    \n",
    "#loading the dictionary into a pandas series\n",
    "s = p.Series(data=knn_accuracy, index=knn_accuracy.keys())\n"
   ]
  },
  {
   "cell_type": "code",
   "execution_count": 27,
   "metadata": {
    "scrolled": false
   },
   "outputs": [
    {
     "data": {
      "text/plain": [
       "<matplotlib.axes._subplots.AxesSubplot at 0x217dd8ef400>"
      ]
     },
     "execution_count": 27,
     "metadata": {},
     "output_type": "execute_result"
    },
    {
     "data": {
      "image/png": "[encoded data removed]",
      "text/plain": [
       "<matplotlib.figure.Figure at 0x217dd8e25c0>"
      ]
     },
     "metadata": {},
     "output_type": "display_data"
    }
   ],
   "source": [
    "%matplotlib inline\n",
    "\n",
    "import matplotlib\n",
    "import numpy as np\n",
    "import matplotlib.pyplot as plt\n",
    "\n",
    "s.plot(kind='line')"
   ]
  },
  {
   "cell_type": "code",
   "execution_count": 28,
   "metadata": {
    "scrolled": true
   },
   "outputs": [
    {
     "data": {
      "text/plain": [
       "41"
      ]
     },
     "execution_count": 28,
     "metadata": {},
     "output_type": "execute_result"
    }
   ],
   "source": [
    "#maximum accuracy for k=\n",
    "s.idxmax()"
   ]
  },
  {
   "cell_type": "code",
   "execution_count": 29,
   "metadata": {},
   "outputs": [
    {
     "data": {
      "text/plain": [
       "0.8256"
      ]
     },
     "execution_count": 29,
     "metadata": {},
     "output_type": "execute_result"
    }
   ],
   "source": [
    "s.max()"
   ]
  },
  {
   "cell_type": "markdown",
   "metadata": {},
   "source": [
    "### d) Building Decision Tree model"
   ]
  },
  {
   "cell_type": "code",
   "execution_count": 25,
   "metadata": {},
   "outputs": [
    {
     "name": "stdout",
     "output_type": "stream",
     "text": [
      "Wall time: 4.59 s\n"
     ]
    },
    {
     "data": {
      "text/plain": [
       "DecisionTreeClassifier(class_weight=None, criterion='gini', max_depth=None,\n",
       "            max_features=None, max_leaf_nodes=None,\n",
       "            min_impurity_decrease=0.0, min_impurity_split=None,\n",
       "            min_samples_leaf=1, min_samples_split=2,\n",
       "            min_weight_fraction_leaf=0.0, presort=False, random_state=None,\n",
       "            splitter='best')"
      ]
     },
     "execution_count": 25,
     "metadata": {},
     "output_type": "execute_result"
    }
   ],
   "source": [
    "from sklearn import tree\n",
    "dtc = tree.DecisionTreeClassifier()\n",
    "\n",
    "%time dtc.fit(train_feature_m, train_class)"
   ]
  },
  {
   "cell_type": "code",
   "execution_count": 26,
   "metadata": {},
   "outputs": [],
   "source": [
    "pred_class = dtc.predict(test_feature_m)\n"
   ]
  },
  {
   "cell_type": "code",
   "execution_count": 27,
   "metadata": {
    "scrolled": true
   },
   "outputs": [
    {
     "data": {
      "text/plain": [
       "0.7484"
      ]
     },
     "execution_count": 27,
     "metadata": {},
     "output_type": "execute_result"
    }
   ],
   "source": [
    "metrics.accuracy_score(test_class, pred_class)"
   ]
  },
  {
   "cell_type": "markdown",
   "metadata": {},
   "source": [
    "## 2- Model Evaluation on Preprocessed corpora\n",
    "See : text-processing.ipynb"
   ]
  },
  {
   "cell_type": "markdown",
   "metadata": {},
   "source": [
    "### a) Importing corpora with different preprocessing"
   ]
  },
  {
   "cell_type": "code",
   "execution_count": 28,
   "metadata": {},
   "outputs": [],
   "source": [
    "import pandas as p\n",
    "#Importing dataset into a Dataframe\n",
    "label = p.read_table('data/labels.csv', header=None, names=['label'])\n",
    "stopword = p.read_table('data/stopwords.csv', header=None, names=['review'])\n",
    "lemmatized = p.read_table('data/lemmatized.csv', header=None, names=['review'])\n",
    "postagged = p.read_table('data/postagged.csv', header=None, names=['review'])\n",
    "\n",
    "\n",
    "\n",
    "##to align label and text\n",
    "label.reset_index(drop=True, inplace=True)\n",
    "stopword.reset_index(drop=True, inplace=True)\n",
    "lemmatized.reset_index(drop=True, inplace=True)\n",
    "postagged.reset_index(drop=True, inplace=True)\n",
    "\n",
    "#concatenate label and text together aligned in a Dataframe & extract features en class separatly\n",
    "stop_corpus = p.concat([stopword.reset_index(drop=True), label.reset_index(drop=True)], axis=1)\n",
    "STOP_FEATURES = stop_corpus.review\n",
    "STOP_CLASS = stop_corpus.label \n",
    "lemma_corpus = p.concat([lemmatized.reset_index(drop=True), label.reset_index(drop=True)], axis=1)\n",
    "LEMMA_FEATURES = lemma_corpus.review\n",
    "LEMMA_CLASS = lemma_corpus.label \n",
    "pos_corpus = p.concat([postagged.reset_index(drop=True), label.reset_index(drop=True)], axis=1)\n",
    "POS_FEATURES = pos_corpus.review\n",
    "POS_CLASS = pos_corpus.label \n"
   ]
  },
  {
   "cell_type": "markdown",
   "metadata": {},
   "source": [
    "### b) Creating different pipelines for model evaluation"
   ]
  },
  {
   "cell_type": "code",
   "execution_count": 29,
   "metadata": {},
   "outputs": [],
   "source": [
    "from sklearn.model_selection import cross_val_score\n",
    "from sklearn.feature_extraction.text import TfidfVectorizer\n",
    "from sklearn.pipeline import Pipeline\n",
    "from sklearn.neighbors import KNeighborsClassifier\n",
    "from sklearn.naive_bayes import MultinomialNB\n",
    "from sklearn.tree import DecisionTreeClassifier\n",
    "from sklearn.svm import SVC\n",
    "from sklearn.linear_model import SGDClassifier\n",
    "\n",
    "#Using pipeline to fit the vectorization on each \"train fold\" only and not on the fold used for testing\n",
    "naive_bayes = Pipeline([('vect', TfidfVectorizer()), ('nb', MultinomialNB())])\n",
    "knn = Pipeline([('vect', TfidfVectorizer()), ('knn', KNeighborsClassifier(n_neighbors=41))])\n",
    "decision_tree = Pipeline([('vect', TfidfVectorizer()), ('dtc', DecisionTreeClassifier())])\n",
    "svm = Pipeline([('vect', TfidfVectorizer()), ('svc', SVC(kernel='linear', C=1))])\n",
    "sgd = Pipeline([('vect', TfidfVectorizer()), ('sgd', SGDClassifier(max_iter=100))])\n"
   ]
  },
  {
   "cell_type": "markdown",
   "metadata": {},
   "source": [
    "### c) Running K-fold crossvalidation on the pipelines"
   ]
  },
  {
   "cell_type": "markdown",
   "metadata": {},
   "source": [
    "#### - Naive Bayes evaluation"
   ]
  },
  {
   "cell_type": "code",
   "execution_count": 30,
   "metadata": {
    "scrolled": true
   },
   "outputs": [
    {
     "data": {
      "text/plain": [
       "0.898"
      ]
     },
     "execution_count": 30,
     "metadata": {},
     "output_type": "execute_result"
    }
   ],
   "source": [
    "#Running 10-fold crossvalidation with the brut text corpus\n",
    "cross_val_score(naive_bayes, STOP_FEATURES, STOP_CLASS, cv=10).mean()"
   ]
  },
  {
   "cell_type": "code",
   "execution_count": 31,
   "metadata": {},
   "outputs": [
    {
     "data": {
      "text/plain": [
       "0.8975000000000002"
      ]
     },
     "execution_count": 31,
     "metadata": {},
     "output_type": "execute_result"
    }
   ],
   "source": [
    "#On the lemmatized corpus\n",
    "cross_val_score(naive_bayes, LEMMA_FEATURES, LEMMA_CLASS, cv=10).mean()"
   ]
  },
  {
   "cell_type": "code",
   "execution_count": 32,
   "metadata": {},
   "outputs": [
    {
     "data": {
      "text/plain": [
       "0.8916000000000001"
      ]
     },
     "execution_count": 32,
     "metadata": {},
     "output_type": "execute_result"
    }
   ],
   "source": [
    "#On the lemmatized and postagged corpus\n",
    "cross_val_score(naive_bayes, POS_FEATURES, POS_CLASS, cv=10).mean()"
   ]
  },
  {
   "cell_type": "markdown",
   "metadata": {},
   "source": [
    "#### - K-nearest neighbors evaluation"
   ]
  },
  {
   "cell_type": "code",
   "execution_count": 33,
   "metadata": {
    "scrolled": true
   },
   "outputs": [
    {
     "data": {
      "text/plain": [
       "0.8465"
      ]
     },
     "execution_count": 33,
     "metadata": {},
     "output_type": "execute_result"
    }
   ],
   "source": [
    "#On the brut text corpus\n",
    "cross_val_score(knn, STOP_FEATURES, STOP_CLASS, cv=10).mean()"
   ]
  },
  {
   "cell_type": "code",
   "execution_count": 34,
   "metadata": {},
   "outputs": [
    {
     "data": {
      "text/plain": [
       "0.8360999999999998"
      ]
     },
     "execution_count": 34,
     "metadata": {},
     "output_type": "execute_result"
    }
   ],
   "source": [
    "#On the lemmatized corpus\n",
    "cross_val_score(knn, LEMMA_FEATURES, LEMMA_CLASS, cv=10).mean()"
   ]
  },
  {
   "cell_type": "code",
   "execution_count": 35,
   "metadata": {
    "scrolled": true
   },
   "outputs": [
    {
     "data": {
      "text/plain": [
       "0.8347999999999999"
      ]
     },
     "execution_count": 35,
     "metadata": {},
     "output_type": "execute_result"
    }
   ],
   "source": [
    "#On the lemmatized and postagged corpus\n",
    "cross_val_score(knn, POS_FEATURES, POS_CLASS, cv=10).mean()"
   ]
  },
  {
   "cell_type": "markdown",
   "metadata": {},
   "source": [
    "#### - Decision tree classifier evaluation"
   ]
  },
  {
   "cell_type": "code",
   "execution_count": 36,
   "metadata": {
    "scrolled": true
   },
   "outputs": [
    {
     "data": {
      "text/plain": [
       "0.7619"
      ]
     },
     "execution_count": 36,
     "metadata": {},
     "output_type": "execute_result"
    }
   ],
   "source": [
    "#On the brut text corpus\n",
    "cross_val_score(decision_tree, STOP_FEATURES, STOP_CLASS, cv=10).mean()"
   ]
  },
  {
   "cell_type": "code",
   "execution_count": 37,
   "metadata": {},
   "outputs": [
    {
     "data": {
      "text/plain": [
       "0.7636000000000001"
      ]
     },
     "execution_count": 37,
     "metadata": {},
     "output_type": "execute_result"
    }
   ],
   "source": [
    "#On the lemmatized corpus\n",
    "cross_val_score(decision_tree, LEMMA_FEATURES, LEMMA_CLASS, cv=10).mean()"
   ]
  },
  {
   "cell_type": "code",
   "execution_count": 38,
   "metadata": {
    "scrolled": false
   },
   "outputs": [
    {
     "data": {
      "text/plain": [
       "0.7583"
      ]
     },
     "execution_count": 38,
     "metadata": {},
     "output_type": "execute_result"
    }
   ],
   "source": [
    "#On the lemmatized and postagged corpus\n",
    "cross_val_score(decision_tree, POS_FEATURES, POS_CLASS, cv=10).mean()"
   ]
  },
  {
   "cell_type": "markdown",
   "metadata": {},
   "source": [
    "#### - Support vector machine evaluation"
   ]
  },
  {
   "cell_type": "code",
   "execution_count": 39,
   "metadata": {
    "scrolled": true
   },
   "outputs": [
    {
     "data": {
      "text/plain": [
       "0.9205"
      ]
     },
     "execution_count": 39,
     "metadata": {},
     "output_type": "execute_result"
    }
   ],
   "source": [
    "#On the brut text corpus\n",
    "cross_val_score(svm, STOP_FEATURES, STOP_CLASS, cv=10,n_jobs=-1).mean()"
   ]
  },
  {
   "cell_type": "code",
   "execution_count": 40,
   "metadata": {},
   "outputs": [
    {
     "data": {
      "text/plain": [
       "0.9192"
      ]
     },
     "execution_count": 40,
     "metadata": {},
     "output_type": "execute_result"
    }
   ],
   "source": [
    "#On the lemmatized corpus\n",
    "cross_val_score(svm, LEMMA_FEATURES, LEMMA_CLASS, cv=10).mean()"
   ]
  },
  {
   "cell_type": "code",
   "execution_count": 41,
   "metadata": {
    "scrolled": false
   },
   "outputs": [
    {
     "data": {
      "text/plain": [
       "0.9139999999999999"
      ]
     },
     "execution_count": 41,
     "metadata": {},
     "output_type": "execute_result"
    }
   ],
   "source": [
    "#On the lemmatized and postagged corpus\n",
    "cross_val_score(svm, POS_FEATURES, POS_CLASS, cv=10).mean()"
   ]
  },
  {
   "cell_type": "code",
   "execution_count": 42,
   "metadata": {},
   "outputs": [
    {
     "name": "stdout",
     "output_type": "stream",
     "text": [
      "Wall time: 6min\n"
     ]
    },
    {
     "data": {
      "text/plain": [
       "0.9259000000000001"
      ]
     },
     "execution_count": 42,
     "metadata": {},
     "output_type": "execute_result"
    }
   ],
   "source": [
    "ngram_svm = Pipeline([('vect', TfidfVectorizer(ngram_range=(1,2))), ('svc', SVC(kernel='linear', C=1))])\n",
    "\n",
    "%time cross_val_score(ngram_svm, STOP_FEATURES, STOP_CLASS, cv=10,n_jobs=-1).mean()"
   ]
  },
  {
   "cell_type": "code",
   "execution_count": 43,
   "metadata": {
    "scrolled": true
   },
   "outputs": [
    {
     "name": "stdout",
     "output_type": "stream",
     "text": [
      "Wall time: 8min 35s\n"
     ]
    },
    {
     "data": {
      "text/plain": [
       "0.9277000000000001"
      ]
     },
     "execution_count": 43,
     "metadata": {},
     "output_type": "execute_result"
    }
   ],
   "source": [
    "%time cross_val_score(ngram_svm, FEATURES, CLASS, cv=10,n_jobs=-1).mean()"
   ]
  },
  {
   "cell_type": "markdown",
   "metadata": {},
   "source": [
    "#### - Stochastic gradiant descent evaluation"
   ]
  },
  {
   "cell_type": "code",
   "execution_count": 44,
   "metadata": {
    "scrolled": true
   },
   "outputs": [
    {
     "data": {
      "text/plain": [
       "0.9198999999999999"
      ]
     },
     "execution_count": 44,
     "metadata": {},
     "output_type": "execute_result"
    }
   ],
   "source": [
    "#On the brut text corpus\n",
    "cross_val_score(sgd, STOP_FEATURES, STOP_CLASS, cv=10,n_jobs=-1).mean()"
   ]
  },
  {
   "cell_type": "code",
   "execution_count": 45,
   "metadata": {},
   "outputs": [
    {
     "data": {
      "text/plain": [
       "0.9192000000000002"
      ]
     },
     "execution_count": 45,
     "metadata": {},
     "output_type": "execute_result"
    }
   ],
   "source": [
    "#On the lemmatized corpus\n",
    "cross_val_score(sgd, LEMMA_FEATURES, LEMMA_CLASS, cv=10,n_jobs=-1).mean()"
   ]
  },
  {
   "cell_type": "code",
   "execution_count": 46,
   "metadata": {
    "scrolled": false
   },
   "outputs": [
    {
     "data": {
      "text/plain": [
       "0.9137000000000001"
      ]
     },
     "execution_count": 46,
     "metadata": {},
     "output_type": "execute_result"
    }
   ],
   "source": [
    "#On the lemmatized and postagged corpus\n",
    "cross_val_score(sgd, POS_FEATURES, POS_CLASS, cv=10,n_jobs=-1).mean()"
   ]
  },
  {
   "cell_type": "markdown",
   "metadata": {},
   "source": [
    "### d) Parameter tuning for the best models"
   ]
  },
  {
   "cell_type": "markdown",
   "metadata": {},
   "source": [
    "#### - Support Vector Machine"
   ]
  },
  {
   "cell_type": "code",
   "execution_count": 51,
   "metadata": {
    "scrolled": true
   },
   "outputs": [
    {
     "data": {
      "text/plain": [
       "GridSearchCV(cv=10, error_score='raise',\n",
       "       estimator=Pipeline(memory=None,\n",
       "     steps=[('vect', TfidfVectorizer(analyzer='word', binary=False, decode_error='strict',\n",
       "        dtype=<class 'numpy.int64'>, encoding='utf-8', input='content',\n",
       "        lowercase=True, max_df=1.0, max_features=None, min_df=1,\n",
       "        ngram_range=(1, 1), norm='l2', preprocessor=None, smooth_idf=True,\n",
       "  ...,\n",
       "  max_iter=-1, probability=False, random_state=None, shrinking=True,\n",
       "  tol=0.001, verbose=False))]),\n",
       "       fit_params=None, iid=True, n_jobs=-1,\n",
       "       param_grid={'vect__ngram_range': ((1, 1), (1, 2))},\n",
       "       pre_dispatch='2*n_jobs', refit=True, return_train_score='warn',\n",
       "       scoring='accuracy', verbose=0)"
      ]
     },
     "execution_count": 51,
     "metadata": {},
     "output_type": "execute_result"
    }
   ],
   "source": [
    "from sklearn.model_selection import GridSearchCV\n",
    "\n",
    "#,'svc__kernel': ['linear', 'rbf'], 'svc__C':[1, 10]}\n",
    "\n",
    "parameters = {'vect__ngram_range':((1,1),(1, 2))}\n",
    "\n",
    "svm = Pipeline([('vect', TfidfVectorizer()), ('svc', SVC())])\n",
    "\n",
    "grid = GridSearchCV(svm, parameters, cv=10, scoring='accuracy',n_jobs=-1)\n",
    "grid.fit(STOP_FEATURES, STOP_CLASS)"
   ]
  },
  {
   "cell_type": "code",
   "execution_count": 52,
   "metadata": {
    "scrolled": true
   },
   "outputs": [
    {
     "name": "stderr",
     "output_type": "stream",
     "text": [
      "E:\\Anaconda3\\lib\\site-packages\\sklearn\\utils\\deprecation.py:122: FutureWarning: You are accessing a training score ('mean_train_score'), which will not be available by default any more in 0.21. If you need training scores, please set return_train_score=True\n",
      "  warnings.warn(*warn_args, **warn_kwargs)\n",
      "E:\\Anaconda3\\lib\\site-packages\\sklearn\\utils\\deprecation.py:122: FutureWarning: You are accessing a training score ('split0_train_score'), which will not be available by default any more in 0.21. If you need training scores, please set return_train_score=True\n",
      "  warnings.warn(*warn_args, **warn_kwargs)\n",
      "E:\\Anaconda3\\lib\\site-packages\\sklearn\\utils\\deprecation.py:122: FutureWarning: You are accessing a training score ('split1_train_score'), which will not be available by default any more in 0.21. If you need training scores, please set return_train_score=True\n",
      "  warnings.warn(*warn_args, **warn_kwargs)\n",
      "E:\\Anaconda3\\lib\\site-packages\\sklearn\\utils\\deprecation.py:122: FutureWarning: You are accessing a training score ('split2_train_score'), which will not be available by default any more in 0.21. If you need training scores, please set return_train_score=True\n",
      "  warnings.warn(*warn_args, **warn_kwargs)\n",
      "E:\\Anaconda3\\lib\\site-packages\\sklearn\\utils\\deprecation.py:122: FutureWarning: You are accessing a training score ('split3_train_score'), which will not be available by default any more in 0.21. If you need training scores, please set return_train_score=True\n",
      "  warnings.warn(*warn_args, **warn_kwargs)\n",
      "E:\\Anaconda3\\lib\\site-packages\\sklearn\\utils\\deprecation.py:122: FutureWarning: You are accessing a training score ('split4_train_score'), which will not be available by default any more in 0.21. If you need training scores, please set return_train_score=True\n",
      "  warnings.warn(*warn_args, **warn_kwargs)\n",
      "E:\\Anaconda3\\lib\\site-packages\\sklearn\\utils\\deprecation.py:122: FutureWarning: You are accessing a training score ('split5_train_score'), which will not be available by default any more in 0.21. If you need training scores, please set return_train_score=True\n",
      "  warnings.warn(*warn_args, **warn_kwargs)\n",
      "E:\\Anaconda3\\lib\\site-packages\\sklearn\\utils\\deprecation.py:122: FutureWarning: You are accessing a training score ('split6_train_score'), which will not be available by default any more in 0.21. If you need training scores, please set return_train_score=True\n",
      "  warnings.warn(*warn_args, **warn_kwargs)\n",
      "E:\\Anaconda3\\lib\\site-packages\\sklearn\\utils\\deprecation.py:122: FutureWarning: You are accessing a training score ('split7_train_score'), which will not be available by default any more in 0.21. If you need training scores, please set return_train_score=True\n",
      "  warnings.warn(*warn_args, **warn_kwargs)\n",
      "E:\\Anaconda3\\lib\\site-packages\\sklearn\\utils\\deprecation.py:122: FutureWarning: You are accessing a training score ('split8_train_score'), which will not be available by default any more in 0.21. If you need training scores, please set return_train_score=True\n",
      "  warnings.warn(*warn_args, **warn_kwargs)\n",
      "E:\\Anaconda3\\lib\\site-packages\\sklearn\\utils\\deprecation.py:122: FutureWarning: You are accessing a training score ('split9_train_score'), which will not be available by default any more in 0.21. If you need training scores, please set return_train_score=True\n",
      "  warnings.warn(*warn_args, **warn_kwargs)\n",
      "E:\\Anaconda3\\lib\\site-packages\\sklearn\\utils\\deprecation.py:122: FutureWarning: You are accessing a training score ('std_train_score'), which will not be available by default any more in 0.21. If you need training scores, please set return_train_score=True\n",
      "  warnings.warn(*warn_args, **warn_kwargs)\n"
     ]
    },
    {
     "data": {
      "text/plain": [
       "{'mean_fit_time': array([117.45812931, 171.12647622]),\n",
       " 'mean_score_time': array([11.50697193, 14.2025346 ]),\n",
       " 'mean_test_score': array([0.6764, 0.7386]),\n",
       " 'mean_train_score': array([0.68071111, 0.69544444]),\n",
       " 'param_vect__ngram_range': masked_array(data=[(1, 1), (1, 2)],\n",
       "              mask=[False, False],\n",
       "        fill_value='?',\n",
       "             dtype=object),\n",
       " 'params': [{'vect__ngram_range': (1, 1)}, {'vect__ngram_range': (1, 2)}],\n",
       " 'rank_test_score': array([2, 1]),\n",
       " 'split0_test_score': array([0.686, 0.796]),\n",
       " 'split0_train_score': array([0.67777778, 0.785     ]),\n",
       " 'split1_test_score': array([0.692, 0.754]),\n",
       " 'split1_train_score': array([0.68188889, 0.70266667]),\n",
       " 'split2_test_score': array([0.676, 0.687]),\n",
       " 'split2_train_score': array([0.68822222, 0.64211111]),\n",
       " 'split3_test_score': array([0.704, 0.739]),\n",
       " 'split3_train_score': array([0.68411111, 0.64966667]),\n",
       " 'split4_test_score': array([0.642, 0.677]),\n",
       " 'split4_train_score': array([0.67933333, 0.65555556]),\n",
       " 'split5_test_score': array([0.686, 0.721]),\n",
       " 'split5_train_score': array([0.68066667, 0.65255556]),\n",
       " 'split6_test_score': array([0.678, 0.78 ]),\n",
       " 'split6_train_score': array([0.68411111, 0.73877778]),\n",
       " 'split7_test_score': array([0.675, 0.71 ]),\n",
       " 'split7_train_score': array([0.68133333, 0.66944444]),\n",
       " 'split8_test_score': array([0.676, 0.78 ]),\n",
       " 'split8_train_score': array([0.67977778, 0.74255556]),\n",
       " 'split9_test_score': array([0.649, 0.742]),\n",
       " 'split9_train_score': array([0.66988889, 0.71611111]),\n",
       " 'std_fit_time': array([11.72721111, 31.97188745]),\n",
       " 'std_score_time': array([0.52040566, 2.62376638]),\n",
       " 'std_test_score': array([0.01768728, 0.03815285]),\n",
       " 'std_train_score': array([0.00458047, 0.0465224 ])}"
      ]
     },
     "execution_count": 52,
     "metadata": {},
     "output_type": "execute_result"
    }
   ],
   "source": [
    "grid.cv_results_"
   ]
  },
  {
   "cell_type": "code",
   "execution_count": 48,
   "metadata": {},
   "outputs": [
    {
     "data": {
      "text/plain": [
       "GridSearchCV(cv=10, error_score='raise',\n",
       "       estimator=Pipeline(memory=None,\n",
       "     steps=[('vect', TfidfVectorizer(analyzer='word', binary=False, decode_error='strict',\n",
       "        dtype=<class 'numpy.int64'>, encoding='utf-8', input='content',\n",
       "        lowercase=True, max_df=1.0, max_features=None, min_df=1,\n",
       "        ngram_range=(1, 1), norm='l2', preprocessor=None, smooth_idf=True,\n",
       "  ...,\n",
       "  max_iter=-1, probability=False, random_state=None, shrinking=True,\n",
       "  tol=0.001, verbose=False))]),\n",
       "       fit_params=None, iid=True, n_jobs=-1,\n",
       "       param_grid={'svc__kernel': ['linear', 'rbf'], 'svc__C': [1, 10]},\n",
       "       pre_dispatch='2*n_jobs', refit=True, return_train_score='warn',\n",
       "       scoring='accuracy', verbose=0)"
      ]
     },
     "execution_count": 48,
     "metadata": {},
     "output_type": "execute_result"
    }
   ],
   "source": [
    "from sklearn.model_selection import GridSearchCV\n",
    "\n",
    "#,'svc__kernel': ['linear', 'rbf'], 'svc__C':[1, 10]}\n",
    "\n",
    "parameters = {'svc__kernel': ['linear', 'rbf'], 'svc__C':[1, 10]}\n",
    "\n",
    "svm = Pipeline([('vect', TfidfVectorizer()), ('svc', SVC())])\n",
    "\n",
    "grid = GridSearchCV(svm, parameters, cv=10, scoring='accuracy',n_jobs=-1)\n",
    "grid.fit(STOP_FEATURES, STOP_CLASS)"
   ]
  },
  {
   "cell_type": "code",
   "execution_count": 49,
   "metadata": {
    "scrolled": false
   },
   "outputs": [
    {
     "name": "stderr",
     "output_type": "stream",
     "text": [
      "E:\\Anaconda3\\lib\\site-packages\\sklearn\\utils\\deprecation.py:122: FutureWarning: You are accessing a training score ('mean_train_score'), which will not be available by default any more in 0.21. If you need training scores, please set return_train_score=True\n",
      "  warnings.warn(*warn_args, **warn_kwargs)\n",
      "E:\\Anaconda3\\lib\\site-packages\\sklearn\\utils\\deprecation.py:122: FutureWarning: You are accessing a training score ('split0_train_score'), which will not be available by default any more in 0.21. If you need training scores, please set return_train_score=True\n",
      "  warnings.warn(*warn_args, **warn_kwargs)\n",
      "E:\\Anaconda3\\lib\\site-packages\\sklearn\\utils\\deprecation.py:122: FutureWarning: You are accessing a training score ('split1_train_score'), which will not be available by default any more in 0.21. If you need training scores, please set return_train_score=True\n",
      "  warnings.warn(*warn_args, **warn_kwargs)\n",
      "E:\\Anaconda3\\lib\\site-packages\\sklearn\\utils\\deprecation.py:122: FutureWarning: You are accessing a training score ('split2_train_score'), which will not be available by default any more in 0.21. If you need training scores, please set return_train_score=True\n",
      "  warnings.warn(*warn_args, **warn_kwargs)\n",
      "E:\\Anaconda3\\lib\\site-packages\\sklearn\\utils\\deprecation.py:122: FutureWarning: You are accessing a training score ('split3_train_score'), which will not be available by default any more in 0.21. If you need training scores, please set return_train_score=True\n",
      "  warnings.warn(*warn_args, **warn_kwargs)\n",
      "E:\\Anaconda3\\lib\\site-packages\\sklearn\\utils\\deprecation.py:122: FutureWarning: You are accessing a training score ('split4_train_score'), which will not be available by default any more in 0.21. If you need training scores, please set return_train_score=True\n",
      "  warnings.warn(*warn_args, **warn_kwargs)\n",
      "E:\\Anaconda3\\lib\\site-packages\\sklearn\\utils\\deprecation.py:122: FutureWarning: You are accessing a training score ('split5_train_score'), which will not be available by default any more in 0.21. If you need training scores, please set return_train_score=True\n",
      "  warnings.warn(*warn_args, **warn_kwargs)\n",
      "E:\\Anaconda3\\lib\\site-packages\\sklearn\\utils\\deprecation.py:122: FutureWarning: You are accessing a training score ('split6_train_score'), which will not be available by default any more in 0.21. If you need training scores, please set return_train_score=True\n",
      "  warnings.warn(*warn_args, **warn_kwargs)\n",
      "E:\\Anaconda3\\lib\\site-packages\\sklearn\\utils\\deprecation.py:122: FutureWarning: You are accessing a training score ('split7_train_score'), which will not be available by default any more in 0.21. If you need training scores, please set return_train_score=True\n",
      "  warnings.warn(*warn_args, **warn_kwargs)\n",
      "E:\\Anaconda3\\lib\\site-packages\\sklearn\\utils\\deprecation.py:122: FutureWarning: You are accessing a training score ('split8_train_score'), which will not be available by default any more in 0.21. If you need training scores, please set return_train_score=True\n",
      "  warnings.warn(*warn_args, **warn_kwargs)\n",
      "E:\\Anaconda3\\lib\\site-packages\\sklearn\\utils\\deprecation.py:122: FutureWarning: You are accessing a training score ('split9_train_score'), which will not be available by default any more in 0.21. If you need training scores, please set return_train_score=True\n",
      "  warnings.warn(*warn_args, **warn_kwargs)\n",
      "E:\\Anaconda3\\lib\\site-packages\\sklearn\\utils\\deprecation.py:122: FutureWarning: You are accessing a training score ('std_train_score'), which will not be available by default any more in 0.21. If you need training scores, please set return_train_score=True\n",
      "  warnings.warn(*warn_args, **warn_kwargs)\n"
     ]
    },
    {
     "data": {
      "text/plain": [
       "{'mean_fit_time': array([ 56.14385962,  96.56347032,  45.88044491, 105.83062532]),\n",
       " 'mean_score_time': array([ 5.9133364 ,  9.77280705,  4.78523433, 11.95111091]),\n",
       " 'mean_test_score': array([0.9205, 0.6764, 0.9123, 0.6764]),\n",
       " 'mean_train_score': array([0.98712222, 0.68071111, 1.        , 0.68071111]),\n",
       " 'param_svc__C': masked_array(data=[1, 1, 10, 10],\n",
       "              mask=[False, False, False, False],\n",
       "        fill_value='?',\n",
       "             dtype=object),\n",
       " 'param_svc__kernel': masked_array(data=['linear', 'rbf', 'linear', 'rbf'],\n",
       "              mask=[False, False, False, False],\n",
       "        fill_value='?',\n",
       "             dtype=object),\n",
       " 'params': [{'svc__C': 1, 'svc__kernel': 'linear'},\n",
       "  {'svc__C': 1, 'svc__kernel': 'rbf'},\n",
       "  {'svc__C': 10, 'svc__kernel': 'linear'},\n",
       "  {'svc__C': 10, 'svc__kernel': 'rbf'}],\n",
       " 'rank_test_score': array([1, 3, 2, 3]),\n",
       " 'split0_test_score': array([0.915, 0.686, 0.915, 0.686]),\n",
       " 'split0_train_score': array([0.98722222, 0.67777778, 1.        , 0.67777778]),\n",
       " 'split1_test_score': array([0.923, 0.692, 0.92 , 0.692]),\n",
       " 'split1_train_score': array([0.98711111, 0.68188889, 1.        , 0.68188889]),\n",
       " 'split2_test_score': array([0.929, 0.676, 0.913, 0.676]),\n",
       " 'split2_train_score': array([0.98666667, 0.68822222, 1.        , 0.68822222]),\n",
       " 'split3_test_score': array([0.93 , 0.704, 0.911, 0.704]),\n",
       " 'split3_train_score': array([0.98722222, 0.68411111, 1.        , 0.68411111]),\n",
       " 'split4_test_score': array([0.92 , 0.642, 0.922, 0.642]),\n",
       " 'split4_train_score': array([0.98644444, 0.67933333, 1.        , 0.67933333]),\n",
       " 'split5_test_score': array([0.911, 0.686, 0.912, 0.686]),\n",
       " 'split5_train_score': array([0.98755556, 0.68066667, 1.        , 0.68066667]),\n",
       " 'split6_test_score': array([0.923, 0.678, 0.91 , 0.678]),\n",
       " 'split6_train_score': array([0.98722222, 0.68411111, 1.        , 0.68411111]),\n",
       " 'split7_test_score': array([0.912, 0.675, 0.903, 0.675]),\n",
       " 'split7_train_score': array([0.98766667, 0.68133333, 1.        , 0.68133333]),\n",
       " 'split8_test_score': array([0.922, 0.676, 0.915, 0.676]),\n",
       " 'split8_train_score': array([0.98688889, 0.67977778, 1.        , 0.67977778]),\n",
       " 'split9_test_score': array([0.92 , 0.649, 0.902, 0.649]),\n",
       " 'split9_train_score': array([0.98722222, 0.66988889, 1.        , 0.66988889]),\n",
       " 'std_fit_time': array([ 6.6243823 ,  5.78541154,  2.62869591, 13.45732353]),\n",
       " 'std_score_time': array([0.58119774, 0.44697956, 0.54454301, 3.42821364]),\n",
       " 'std_test_score': array([0.00608687, 0.01768728, 0.00606712, 0.01768728]),\n",
       " 'std_train_score': array([0.00035294, 0.00458047, 0.        , 0.00458047])}"
      ]
     },
     "execution_count": 49,
     "metadata": {},
     "output_type": "execute_result"
    }
   ],
   "source": [
    "grid.cv_results_"
   ]
  }
 ],
 "metadata": {
  "kernelspec": {
   "display_name": "Python 3",
   "language": "python",
   "name": "python3"
  },
  "language_info": {
   "codemirror_mode": {
    "name": "ipython",
    "version": 3
   },
   "file_extension": ".py",
   "mimetype": "text/x-python",
   "name": "python",
   "nbconvert_exporter": "python",
   "pygments_lexer": "ipython3",
   "version": "3.6.4"
  }
 },
 "nbformat": 4,
 "nbformat_minor": 2
}
